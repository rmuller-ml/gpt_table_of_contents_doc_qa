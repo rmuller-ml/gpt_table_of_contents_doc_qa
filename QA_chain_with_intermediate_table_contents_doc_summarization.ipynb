{
 "cells": [
  {
   "cell_type": "markdown",
   "id": "52ccd0e6",
   "metadata": {},
   "source": [
    "# Question/answering  long documents by summarizing them into a table of contents  using GPT/Langchain\n",
    "\n",
    "TLDR: This notebook shows how to use GPT to answer questions from a big document that has does not have an available index. It is done in 3 steps: (1) Create a table of contents by summarizing chunks of texts (2) for a given question, ask GPT which summary in the index to look for the answer (2) get the full content used to generate the summary and include in the question/prompt so the answer can refer to the content (context) to better answer the question.\n",
    "\n",
    "Motivation\n",
    "\n",
    "With the availability of the GPT API, we can get natural language answers from data crawled by OpenAI. However, to get answers from private documents, we need to finetune the GPT model on the private documents or include those documents in the context of the question. If the document is too large for the context (maximum 4096 tokens, resulting in max ~3000 words including the answer) we need to be able to first find the sections of the document that may contain the answer. There are many ways to do this:\n",
    "\n",
    "Embeddings\n",
    "\n",
    "Split the document into chunks\n",
    "Embedd this text chunks using GPT\n",
    "Embedd the question and use as context the chunk(s) with maximum cosine distance between chunk and question embedding\n",
    "See https://platform.openai.com/docs/tutorials/web-qa-embeddings\n",
    "\n",
    "Using the table of contents/index (this notebook)\n",
    "\n",
    "(1) If data is already organized with a table of contents, go to 2. If not, we can split the full document into chunks and summarize each chunk using a LLM to create a table of contents. This can be done by using summarization and chunking from Langchain.\n",
    "\n",
    "(2) If the document is structured using sections (table of contents), we can ask the LLM (for a given question)to answer teh user question assuming the knowledge of the table of contents including the \"source\" (which section contains the answer). This can be done using https://langchain.readthedocs.io/en/latest/modules/indexes/chain_examples/qa_with_sources.html (QA with sources from Langchain).\n",
    "\n",
    "(3) Then we can refine the answer. We can include the text content of the section into a second question which will help to answer the user's question.\n",
    "\n",
    "More\n",
    "\n",
    "For the case where we already have a table of contents and we do not want to use Langchain, see: https://github.com/rmuller-ml/gpt_table_of_contents_doc_qa/blob/main/Search_GPT_API_documentation_with_GPT.ipynb"
   ]
  },
  {
   "cell_type": "code",
   "execution_count": 2,
   "id": "2bbbd9ca",
   "metadata": {},
   "outputs": [],
   "source": [
    "# Using the state of the union as an example\n",
    "# Splitting the full text into chunks with small overlap\n",
    "\n",
    "from langchain.text_splitter import CharacterTextSplitter\n",
    "\n",
    "with open('../../state_of_the_union.txt') as f:\n",
    "    state_of_the_union = f.read()\n",
    "\n",
    "text_splitter = CharacterTextSplitter(        \n",
    "    separator = \"\\n\\n\",\n",
    "    chunk_size = 1000,\n",
    "    chunk_overlap  = 200,\n",
    "    length_function = len,\n",
    ")\n",
    "docs = text_splitter.create_documents([state_of_the_union])"
   ]
  },
  {
   "cell_type": "code",
   "execution_count": 5,
   "id": "911278b4",
   "metadata": {},
   "outputs": [
    {
     "name": "stdout",
     "output_type": "stream",
     "text": [
      "Number of documents: 49\n",
      "Example [0]\n",
      "page_content='Madam Speaker, Madam Vice President, our First Lady and Second Gentleman. Members of Congress and the Cabinet. Justices of the Supreme Court. My fellow Americans.  \\n\\nLast year COVID-19 kept us apart. This year we are finally together again. \\n\\nTonight, we meet as Democrats Republicans and Independents. But most importantly as Americans. \\n\\nWith a duty to one another to the American people to the Constitution. \\n\\nAnd with an unwavering resolve that freedom will always triumph over tyranny. \\n\\nSix days ago, Russia’s Vladimir Putin sought to shake the foundations of the free world thinking he could make it bend to his menacing ways. But he badly miscalculated. \\n\\nHe thought he could roll into Ukraine and the world would roll over. Instead he met a wall of strength he never imagined. \\n\\nHe met the Ukrainian people. \\n\\nFrom President Zelenskyy to every Ukrainian, their fearlessness, their courage, their determination, inspires the world.' lookup_str='' metadata={} lookup_index=0\n"
     ]
    }
   ],
   "source": [
    "# Number of chunks and example of a chunk\n",
    "\n",
    "print(f\"Number of documents: {len(docs)}\")\n",
    "print(\"Example [0]\")\n",
    "print(docs[0])"
   ]
  },
  {
   "cell_type": "code",
   "execution_count": 28,
   "id": "437b13be",
   "metadata": {},
   "outputs": [],
   "source": [
    "# Summarizing each chunk using a LLM a limiting each summary to around 10 words\n",
    "\n",
    "from langchain.prompts import PromptTemplate\n",
    "from langchain.llms import OpenAI\n",
    "\n",
    "template = \"\"\"Write a concise summary of the following:\n",
    "\n",
    "\n",
    "\"{page_content}\"\n",
    "\n",
    "\n",
    "CONCISE SUMMARY WITH MAXIMUM 10 WORDS:\n",
    "\n",
    "\"\"\"\n",
    "\n",
    "llm = OpenAI(temperature=0.0)\n",
    "prompt = PromptTemplate(\n",
    "    input_variables=[\"page_content\"],\n",
    "    template=template,\n",
    ")\n",
    "\n",
    "from langchain.chains import LLMChain\n",
    "chain = LLMChain(llm=llm, prompt=prompt)\n",
    "\n",
    "# Run the chain only specifying the input variable.\n",
    "summaries = [chain.run(doc.page_content) for doc in docs]\n",
    "\n"
   ]
  },
  {
   "cell_type": "code",
   "execution_count": 135,
   "id": "5b30fbd5",
   "metadata": {},
   "outputs": [
    {
     "name": "stdout",
     "output_type": "stream",
     "text": [
      "Total number of characters in the summaries: 4483\n",
      "Total number of characters in the docs: 45425\n",
      "Summaries:\n",
      "0:  Americans unite to stand against tyranny.\n",
      "1:  Ukrainians courageously fight against aggression; US stands with them.\n",
      "2:  NATO formed to secure peace in Europe; US and 29 other nations; US diplomacy, resolve countered Putin's attack.\n",
      "3:  World holds Russia accountable, enforces sanctions, cutting off access to technology.\n",
      "4:  U.S. and European allies isolate Russia, seize assets, close airspace.\n",
      "5:  Russia's economy is suffering, US providing $1B aid to Ukraine, NATO allies defended against Putin.\n",
      "6:  U.S. defends NATO countries against Russian aggression.\n",
      "7:  President announces oil release to reduce gas prices.\n",
      "8:  Democracies are uniting against autocracy, standing with Ukraine.\n",
      "9:  Putin will never gain Ukrainian hearts; US faced hard years; American Rescue Plan passed to help.\n",
      "10:  American Rescue Plan passed to help people, created 6.5 million jobs.\n",
      "11:  Economy created 6.5M jobs, 5.7% growth, invest in America, build from bottom up.\n",
      "12:  Invest in America, educate Americans, build infrastructure, create jobs, win 21st century competition.\n",
      "13:  America to win 21st Century economic competition with China. 65,000 miles of highway, 1,500 bridges, 500,000 EV charging stations.\n",
      "14:  Announcing infrastructure projects, Buy American, and compete globally.\n",
      "15:  Pass Bipartisan Innovation Act to compete globally, build Intel's $20 billion semiconductor site, create 10,000 jobs.\n",
      "16:  Intel to invest $100 billion in US manufacturing.\n",
      "17:   Companies investing in US, creating 369,000 jobs; inflation robbing families of gains.\n",
      "18:  Fighting inflation through lower costs, not wages.\n",
      "19:  Lower costs, build America, fight inflation, cut drug costs.\n",
      "20:  Joshua and his Dad have Type 1 diabetes, but insulin is too expensive. Let's cap the cost at $35/month.\n",
      "21:  Drug companies, ACA savings, energy costs, child care costs reduced.\n",
      "22:  Cut child care costs, lower taxes, increase fairness.\n",
      "23:  Tax corporations and wealthy, close loopholes, lower costs for families.\n",
      "24:  President plans to lower costs, deficit, and fraud.\n",
      "25:  Capitalism without competition leads to exploitation and higher prices. President Biden announces crackdown on companies overcharging and sets higher standards for nursing homes.\n",
      "26:  Invest in workers, build economy, better America.\n",
      "27:  Progress made in fight against COVID-19, CDC issues new mask guidelines.\n",
      "28:  Americans can now be mask-free; continue to combat COVID-19; stay protected with vaccines; vaccinate more Americans.\n",
      "29:   Vaccinating Americans, anti-viral treatments, Test to Treat initiative, free masks.\n",
      "30:  Providing treatments, masks, tests, and preparing for variants; ending shutdowns with tools.\n",
      "31:  End shutdowns, return to work, vaccinate world.\n",
      "32:  Americans use tools to vaccinate world, reset COVID-19 as God-awful disease, stop seeing each other as enemies.\n",
      "33:  Officers Mora and Rivera, both Dominican Americans, were killed responding to a 9-1-1 call. Justice Department requires body cameras, bans chokeholds, and restricts no-knock warrants.\n",
      "34:  Justice Department requires body cameras, bans chokeholds, restricts no-knock warrants, and funds police with resources and training.\n",
      "35:  Crack down on gun trafficking, pass gun control measures, repeal liability shield, protect right to vote.\n",
      "36:  President calls for voting rights laws, honors Justice Breyer, nominates Judge Jackson.\n",
      "37:  President Biden nominated Judge Ketanji Brown Jackson to the Circuit Court of Appeals, a consensus builder with broad support. He also seeks to secure the border and fix the immigration system.\n",
      "38:  Immigration reform to protect rights of families, Dreamers, workers, and women.\n",
      "39:  Protecting rights of women, Roe v. Wade, Equality Act, transgender rights.\n",
      "40:  President offers Unity Agenda to beat opioid epidemic.\n",
      "41:  Beat opioid epidemic, tackle mental health, fund prevention, celebrate recovery, help children.\n",
      "42:  Children struggling before pandemic; hold social media accountable; strengthen privacy, mental health services, support veterans.\n",
      "43:  Providing assistance to veterans, including VA care debt-free, to honor those affected by burn pits.\n",
      "44:  Military families honored; Heath Robinson fought cancer from burn pits; VA expanding eligibility for nine respiratory cancers.\n",
      "45:  President Biden announces expanded cancer benefits and calls for Congress to fund ARPA-H to reduce cancer death rate by 50%.\n",
      "46:  Congress to fund ARPA-H for breakthroughs in health. Moment of responsibility to build strong nation.\n",
      "47:  America will meet the test of protecting freedom and liberty. Possibilities define us.\n",
      "48:  The State of the Union is strong. United together, we will overcome.\n"
     ]
    }
   ],
   "source": [
    "# The list of summaries can be seen as a table of contents\n",
    "# Number of characters is compressed by x10\n",
    "\n",
    "import re\n",
    "print(f\"Total number of characters in the summaries: {sum([len(s) for s in summaries])}\")\n",
    "print(f\"Total number of characters in the docs: {sum([len(d.page_content) for d in docs])}\")\n",
    "print(\"Summaries:\")\n",
    "for i, s in enumerate(summaries):\n",
    "    s_no_newline = re.sub(\"\\n\",\"\",s)\n",
    "    print(f\"{i}:  {s_no_newline}\")\n",
    "\n"
   ]
  },
  {
   "cell_type": "code",
   "execution_count": 38,
   "id": "abc3c3b9",
   "metadata": {},
   "outputs": [],
   "source": [
    "# Adding a unique index for each chunk\n",
    "from langchain.docstore.document import Document\n",
    "summary_docs = [Document(page_content=s, metadata={\"source\": f\"{i}-pl\"}) for i,s in enumerate(summaries)]"
   ]
  },
  {
   "cell_type": "code",
   "execution_count": 137,
   "id": "3d0d87bf",
   "metadata": {},
   "outputs": [
    {
     "name": "stdout",
     "output_type": "stream",
     "text": [
      "{'output_text': \" President Biden announced Intel's $20 billion semiconductor site, creating 10,000 jobs, and Intel to invest $100 billion in US manufacturing.\\nSOURCES: 15-pl, 16-pl\"}\n"
     ]
    }
   ],
   "source": [
    "# Use Langchain's QA_with_sources chain to answer the question and tell which summaries contain the answer\n",
    "from langchain.chains.qa_with_sources import load_qa_with_sources_chain\n",
    "\n",
    "chain = load_qa_with_sources_chain(OpenAI(temperature=0), chain_type=\"stuff\")\n",
    "query = \"Any news regarding the semiconductor industry?\"\n",
    "intermediate_result = chain({\"input_documents\": summary_docs, \"question\": query}, return_only_outputs=True)\n",
    "print(intermediate_result)"
   ]
  },
  {
   "cell_type": "code",
   "execution_count": 138,
   "id": "7feb60e6",
   "metadata": {},
   "outputs": [
    {
     "name": "stdout",
     "output_type": "stream",
     "text": [
      "SUMMARY 0: \n",
      "\n",
      "Pass Bipartisan Innovation Act to compete globally, build Intel's $20 billion semiconductor site, create 10,000 jobs.\n",
      "CONTEXT 0: But to compete for the best jobs of the future, we also need to level the playing field with China and other competitors. \n",
      "\n",
      "That’s why it is so important to pass the Bipartisan Innovation Act sitting in Congress that will make record investments in emerging technologies and American manufacturing. \n",
      "\n",
      "Let me give you one example of why it’s so important to pass it. \n",
      "\n",
      "If you travel 20 miles east of Columbus, Ohio, you’ll find 1,000 empty acres of land. \n",
      "\n",
      "It won’t look like much, but if you stop and look closely, you’ll see a “Field of dreams,” the ground on which America’s future will be built. \n",
      "\n",
      "This is where Intel, the American company that helped build Silicon Valley, is going to build its $20 billion semiconductor “mega site”. \n",
      "\n",
      "Up to eight state-of-the-art factories in one place. 10,000 new good-paying jobs. \n",
      "\n",
      "Some of the most sophisticated manufacturing in the world to make computer chips the size of a fingertip that power the world and our everyday lives.\n",
      "SUMMARY 1: \n",
      "\n",
      "Intel to invest $100 billion in US manufacturing.\n",
      "CONTEXT 1: Some of the most sophisticated manufacturing in the world to make computer chips the size of a fingertip that power the world and our everyday lives. \n",
      "\n",
      "Smartphones. The Internet. Technology we have yet to invent. \n",
      "\n",
      "But that’s just the beginning. \n",
      "\n",
      "Intel’s CEO, Pat Gelsinger, who is here tonight, told me they are ready to increase their investment from  \n",
      "$20 billion to $100 billion. \n",
      "\n",
      "That would be one of the biggest investments in manufacturing in American history. \n",
      "\n",
      "And all they’re waiting for is for you to pass this bill. \n",
      "\n",
      "So let’s not wait any longer. Send it to my desk. I’ll sign it.  \n",
      "\n",
      "And we will really take off. \n",
      "\n",
      "And Intel is not alone. \n",
      "\n",
      "There’s something happening in America. \n",
      "\n",
      "Just look around and you’ll see an amazing story. \n",
      "\n",
      "The rebirth of the pride that comes from stamping products “Made In America.” The revitalization of American manufacturing.   \n",
      "\n",
      "Companies are choosing to build new factories here, when just a few years ago, they would have built them overseas.\n"
     ]
    }
   ],
   "source": [
    "# Parse the sources and show the chunk contents\n",
    "\n",
    "from langchain.output_parsers import RegexParser\n",
    "\n",
    "output_parser = RegexParser(\n",
    "    regex=r\"(.*?)\\SOURCES: (.*)\",\n",
    "    output_keys=[\"answer\", \"source\"],\n",
    ")\n",
    "sources_str = output_parser.parse(intermediate_result['output_text'])['source']\n",
    "sources = [int(x.split('-')[0]) for x in sources_str.split(', ')]\n",
    "for i, s in enumerate(sources):\n",
    "    print(f\"SUMMARY {i}: {summary_docs[s].page_content}\")\n",
    "    print(f\"CONTEXT {i}: {docs[s].page_content}\")"
   ]
  },
  {
   "cell_type": "code",
   "execution_count": 139,
   "id": "9e20915f",
   "metadata": {},
   "outputs": [
    {
     "name": "stdout",
     "output_type": "stream",
     "text": [
      " Intel is planning to build a $20 billion semiconductor \"mega site\" with up to eight state-of-the-art factories in Ohio, creating 10,000 new jobs. Intel's CEO has also said they are ready to increase their investment from $20 billion to $100 billion.\n"
     ]
    }
   ],
   "source": [
    "# Refine the answer by using the original doc chunks (not only summaries) as context\n",
    "\n",
    "from langchain.chains.question_answering import load_qa_chain\n",
    "\n",
    "chain = load_qa_chain(OpenAI(temperature=0), chain_type=\"stuff\")\n",
    "final_result = chain({\"input_documents\": [docs[s] for s in sources], \"question\": query}, return_only_outputs=True)\n",
    "print(final_result['output_text'])"
   ]
  }
 ],
 "metadata": {
  "kernelspec": {
   "display_name": "Python 3 (ipykernel)",
   "language": "python",
   "name": "python3"
  },
  "language_info": {
   "codemirror_mode": {
    "name": "ipython",
    "version": 3
   },
   "file_extension": ".py",
   "mimetype": "text/x-python",
   "name": "python",
   "nbconvert_exporter": "python",
   "pygments_lexer": "ipython3",
   "version": "3.9.16"
  }
 },
 "nbformat": 4,
 "nbformat_minor": 5
}
